{
  "cells": [
    {
      "cell_type": "markdown",
      "metadata": {
        "id": "view-in-github",
        "colab_type": "text"
      },
      "source": [
        "<a href=\"https://colab.research.google.com/github/sarahwardina/HPDP/blob/main/lab/submission/SYN/Lab1c.ipynb\" target=\"_parent\"><img src=\"https://colab.research.google.com/assets/colab-badge.svg\" alt=\"Open In Colab\"/></a>"
      ]
    },
    {
      "cell_type": "markdown",
      "metadata": {
        "id": "MB6JRQovuGuU"
      },
      "source": [
        "#Lab 1c - Understanding Your Data\n",
        "#### Group name: SYN"
      ]
    },
    {
      "cell_type": "markdown",
      "metadata": {
        "id": "P8siNhePuTmA"
      },
      "source": [
        "Please use the **[Open Food Facts](https://www.kaggle.com/openfoodfacts/world-food-facts/data/)** dataset for this exercise."
      ]
    },
    {
      "cell_type": "markdown",
      "metadata": {
        "id": "VW8zV_L_uu41"
      },
      "source": [
        "#### Step 1. Download the dataset to your computer and unzip it."
      ]
    },
    {
      "cell_type": "code",
      "execution_count": 5,
      "metadata": {
        "colab": {
          "base_uri": "https://localhost:8080/"
        },
        "id": "L5jcEObpaQs9",
        "outputId": "78970fa9-6314-4ce7-9075-a614dcbc86f0"
      },
      "outputs": [
        {
          "output_type": "stream",
          "name": "stdout",
          "text": [
            "Drive already mounted at /content/drive; to attempt to forcibly remount, call drive.mount(\"/content/drive\", force_remount=True).\n"
          ]
        }
      ],
      "source": [
        "from google.colab import drive\n",
        "drive.mount('/content/drive')"
      ]
    },
    {
      "cell_type": "markdown",
      "metadata": {
        "id": "JJbp2RI-RJj2"
      },
      "source": [
        "#### Step 2. Use the tsv file and assign it to a dataframe called food"
      ]
    },
    {
      "cell_type": "code",
      "execution_count": 6,
      "metadata": {
        "id": "EtIM6MAlu9bV"
      },
      "outputs": [],
      "source": [
        "import pandas as pd\n",
        "\n",
        "file_path = '/content/drive/My Drive/openfoodfacts.tsv'\n",
        "food = pd.read_csv(file_path, sep='\\t', encoding='utf-8', low_memory=False)"
      ]
    },
    {
      "cell_type": "markdown",
      "metadata": {
        "id": "PceR2_HKu-zl"
      },
      "source": [
        "#### Step 3. See the first 5 entries"
      ]
    },
    {
      "cell_type": "code",
      "execution_count": 7,
      "metadata": {
        "id": "HkxRibUFvBXI",
        "colab": {
          "base_uri": "https://localhost:8080/",
          "height": 412
        },
        "outputId": "9fdcef53-3c51-4388-c0d3-306bb289834e"
      },
      "outputs": [
        {
          "output_type": "execute_result",
          "data": {
            "text/plain": [
              "            code                                                url  \\\n",
              "0  0000000003087  http://world-en.openfoodfacts.org/product/0000...   \n",
              "1  0000000004530  http://world-en.openfoodfacts.org/product/0000...   \n",
              "2  0000000004559  http://world-en.openfoodfacts.org/product/0000...   \n",
              "3  0000000016087  http://world-en.openfoodfacts.org/product/0000...   \n",
              "4  0000000016094  http://world-en.openfoodfacts.org/product/0000...   \n",
              "\n",
              "                      creator   created_t      created_datetime  \\\n",
              "0  openfoodfacts-contributors  1474103866  2016-09-17T09:17:46Z   \n",
              "1             usda-ndb-import  1489069957  2017-03-09T14:32:37Z   \n",
              "2             usda-ndb-import  1489069957  2017-03-09T14:32:37Z   \n",
              "3             usda-ndb-import  1489055731  2017-03-09T10:35:31Z   \n",
              "4             usda-ndb-import  1489055653  2017-03-09T10:34:13Z   \n",
              "\n",
              "  last_modified_t last_modified_datetime                    product_name  \\\n",
              "0      1474103893   2016-09-17T09:18:13Z              Farine de blé noir   \n",
              "1      1489069957   2017-03-09T14:32:37Z  Banana Chips Sweetened (Whole)   \n",
              "2      1489069957   2017-03-09T14:32:37Z                         Peanuts   \n",
              "3      1489055731   2017-03-09T10:35:31Z          Organic Salted Nut Mix   \n",
              "4      1489055653   2017-03-09T10:34:13Z                 Organic Polenta   \n",
              "\n",
              "  generic_name quantity  ... fruits-vegetables-nuts_100g  \\\n",
              "0          NaN      1kg  ...                         NaN   \n",
              "1          NaN      NaN  ...                         NaN   \n",
              "2          NaN      NaN  ...                         NaN   \n",
              "3          NaN      NaN  ...                         NaN   \n",
              "4          NaN      NaN  ...                         NaN   \n",
              "\n",
              "  fruits-vegetables-nuts-estimate_100g collagen-meat-protein-ratio_100g  \\\n",
              "0                                  NaN                              NaN   \n",
              "1                                  NaN                              NaN   \n",
              "2                                  NaN                              NaN   \n",
              "3                                  NaN                              NaN   \n",
              "4                                  NaN                              NaN   \n",
              "\n",
              "  cocoa_100g chlorophyl_100g carbon-footprint_100g nutrition-score-fr_100g  \\\n",
              "0        NaN             NaN                   NaN                     NaN   \n",
              "1        NaN             NaN                   NaN                    14.0   \n",
              "2        NaN             NaN                   NaN                     0.0   \n",
              "3        NaN             NaN                   NaN                    12.0   \n",
              "4        NaN             NaN                   NaN                     NaN   \n",
              "\n",
              "  nutrition-score-uk_100g glycemic-index_100g water-hardness_100g  \n",
              "0                     NaN                 NaN                 NaN  \n",
              "1                    14.0                 NaN                 NaN  \n",
              "2                     0.0                 NaN                 NaN  \n",
              "3                    12.0                 NaN                 NaN  \n",
              "4                     NaN                 NaN                 NaN  \n",
              "\n",
              "[5 rows x 163 columns]"
            ],
            "text/html": [
              "\n",
              "  <div id=\"df-d87f5f1d-a5d7-4cf7-952d-1d80c7c0364f\" class=\"colab-df-container\">\n",
              "    <div>\n",
              "<style scoped>\n",
              "    .dataframe tbody tr th:only-of-type {\n",
              "        vertical-align: middle;\n",
              "    }\n",
              "\n",
              "    .dataframe tbody tr th {\n",
              "        vertical-align: top;\n",
              "    }\n",
              "\n",
              "    .dataframe thead th {\n",
              "        text-align: right;\n",
              "    }\n",
              "</style>\n",
              "<table border=\"1\" class=\"dataframe\">\n",
              "  <thead>\n",
              "    <tr style=\"text-align: right;\">\n",
              "      <th></th>\n",
              "      <th>code</th>\n",
              "      <th>url</th>\n",
              "      <th>creator</th>\n",
              "      <th>created_t</th>\n",
              "      <th>created_datetime</th>\n",
              "      <th>last_modified_t</th>\n",
              "      <th>last_modified_datetime</th>\n",
              "      <th>product_name</th>\n",
              "      <th>generic_name</th>\n",
              "      <th>quantity</th>\n",
              "      <th>...</th>\n",
              "      <th>fruits-vegetables-nuts_100g</th>\n",
              "      <th>fruits-vegetables-nuts-estimate_100g</th>\n",
              "      <th>collagen-meat-protein-ratio_100g</th>\n",
              "      <th>cocoa_100g</th>\n",
              "      <th>chlorophyl_100g</th>\n",
              "      <th>carbon-footprint_100g</th>\n",
              "      <th>nutrition-score-fr_100g</th>\n",
              "      <th>nutrition-score-uk_100g</th>\n",
              "      <th>glycemic-index_100g</th>\n",
              "      <th>water-hardness_100g</th>\n",
              "    </tr>\n",
              "  </thead>\n",
              "  <tbody>\n",
              "    <tr>\n",
              "      <th>0</th>\n",
              "      <td>0000000003087</td>\n",
              "      <td>http://world-en.openfoodfacts.org/product/0000...</td>\n",
              "      <td>openfoodfacts-contributors</td>\n",
              "      <td>1474103866</td>\n",
              "      <td>2016-09-17T09:17:46Z</td>\n",
              "      <td>1474103893</td>\n",
              "      <td>2016-09-17T09:18:13Z</td>\n",
              "      <td>Farine de blé noir</td>\n",
              "      <td>NaN</td>\n",
              "      <td>1kg</td>\n",
              "      <td>...</td>\n",
              "      <td>NaN</td>\n",
              "      <td>NaN</td>\n",
              "      <td>NaN</td>\n",
              "      <td>NaN</td>\n",
              "      <td>NaN</td>\n",
              "      <td>NaN</td>\n",
              "      <td>NaN</td>\n",
              "      <td>NaN</td>\n",
              "      <td>NaN</td>\n",
              "      <td>NaN</td>\n",
              "    </tr>\n",
              "    <tr>\n",
              "      <th>1</th>\n",
              "      <td>0000000004530</td>\n",
              "      <td>http://world-en.openfoodfacts.org/product/0000...</td>\n",
              "      <td>usda-ndb-import</td>\n",
              "      <td>1489069957</td>\n",
              "      <td>2017-03-09T14:32:37Z</td>\n",
              "      <td>1489069957</td>\n",
              "      <td>2017-03-09T14:32:37Z</td>\n",
              "      <td>Banana Chips Sweetened (Whole)</td>\n",
              "      <td>NaN</td>\n",
              "      <td>NaN</td>\n",
              "      <td>...</td>\n",
              "      <td>NaN</td>\n",
              "      <td>NaN</td>\n",
              "      <td>NaN</td>\n",
              "      <td>NaN</td>\n",
              "      <td>NaN</td>\n",
              "      <td>NaN</td>\n",
              "      <td>14.0</td>\n",
              "      <td>14.0</td>\n",
              "      <td>NaN</td>\n",
              "      <td>NaN</td>\n",
              "    </tr>\n",
              "    <tr>\n",
              "      <th>2</th>\n",
              "      <td>0000000004559</td>\n",
              "      <td>http://world-en.openfoodfacts.org/product/0000...</td>\n",
              "      <td>usda-ndb-import</td>\n",
              "      <td>1489069957</td>\n",
              "      <td>2017-03-09T14:32:37Z</td>\n",
              "      <td>1489069957</td>\n",
              "      <td>2017-03-09T14:32:37Z</td>\n",
              "      <td>Peanuts</td>\n",
              "      <td>NaN</td>\n",
              "      <td>NaN</td>\n",
              "      <td>...</td>\n",
              "      <td>NaN</td>\n",
              "      <td>NaN</td>\n",
              "      <td>NaN</td>\n",
              "      <td>NaN</td>\n",
              "      <td>NaN</td>\n",
              "      <td>NaN</td>\n",
              "      <td>0.0</td>\n",
              "      <td>0.0</td>\n",
              "      <td>NaN</td>\n",
              "      <td>NaN</td>\n",
              "    </tr>\n",
              "    <tr>\n",
              "      <th>3</th>\n",
              "      <td>0000000016087</td>\n",
              "      <td>http://world-en.openfoodfacts.org/product/0000...</td>\n",
              "      <td>usda-ndb-import</td>\n",
              "      <td>1489055731</td>\n",
              "      <td>2017-03-09T10:35:31Z</td>\n",
              "      <td>1489055731</td>\n",
              "      <td>2017-03-09T10:35:31Z</td>\n",
              "      <td>Organic Salted Nut Mix</td>\n",
              "      <td>NaN</td>\n",
              "      <td>NaN</td>\n",
              "      <td>...</td>\n",
              "      <td>NaN</td>\n",
              "      <td>NaN</td>\n",
              "      <td>NaN</td>\n",
              "      <td>NaN</td>\n",
              "      <td>NaN</td>\n",
              "      <td>NaN</td>\n",
              "      <td>12.0</td>\n",
              "      <td>12.0</td>\n",
              "      <td>NaN</td>\n",
              "      <td>NaN</td>\n",
              "    </tr>\n",
              "    <tr>\n",
              "      <th>4</th>\n",
              "      <td>0000000016094</td>\n",
              "      <td>http://world-en.openfoodfacts.org/product/0000...</td>\n",
              "      <td>usda-ndb-import</td>\n",
              "      <td>1489055653</td>\n",
              "      <td>2017-03-09T10:34:13Z</td>\n",
              "      <td>1489055653</td>\n",
              "      <td>2017-03-09T10:34:13Z</td>\n",
              "      <td>Organic Polenta</td>\n",
              "      <td>NaN</td>\n",
              "      <td>NaN</td>\n",
              "      <td>...</td>\n",
              "      <td>NaN</td>\n",
              "      <td>NaN</td>\n",
              "      <td>NaN</td>\n",
              "      <td>NaN</td>\n",
              "      <td>NaN</td>\n",
              "      <td>NaN</td>\n",
              "      <td>NaN</td>\n",
              "      <td>NaN</td>\n",
              "      <td>NaN</td>\n",
              "      <td>NaN</td>\n",
              "    </tr>\n",
              "  </tbody>\n",
              "</table>\n",
              "<p>5 rows × 163 columns</p>\n",
              "</div>\n",
              "    <div class=\"colab-df-buttons\">\n",
              "\n",
              "  <div class=\"colab-df-container\">\n",
              "    <button class=\"colab-df-convert\" onclick=\"convertToInteractive('df-d87f5f1d-a5d7-4cf7-952d-1d80c7c0364f')\"\n",
              "            title=\"Convert this dataframe to an interactive table.\"\n",
              "            style=\"display:none;\">\n",
              "\n",
              "  <svg xmlns=\"http://www.w3.org/2000/svg\" height=\"24px\" viewBox=\"0 -960 960 960\">\n",
              "    <path d=\"M120-120v-720h720v720H120Zm60-500h600v-160H180v160Zm220 220h160v-160H400v160Zm0 220h160v-160H400v160ZM180-400h160v-160H180v160Zm440 0h160v-160H620v160ZM180-180h160v-160H180v160Zm440 0h160v-160H620v160Z\"/>\n",
              "  </svg>\n",
              "    </button>\n",
              "\n",
              "  <style>\n",
              "    .colab-df-container {\n",
              "      display:flex;\n",
              "      gap: 12px;\n",
              "    }\n",
              "\n",
              "    .colab-df-convert {\n",
              "      background-color: #E8F0FE;\n",
              "      border: none;\n",
              "      border-radius: 50%;\n",
              "      cursor: pointer;\n",
              "      display: none;\n",
              "      fill: #1967D2;\n",
              "      height: 32px;\n",
              "      padding: 0 0 0 0;\n",
              "      width: 32px;\n",
              "    }\n",
              "\n",
              "    .colab-df-convert:hover {\n",
              "      background-color: #E2EBFA;\n",
              "      box-shadow: 0px 1px 2px rgba(60, 64, 67, 0.3), 0px 1px 3px 1px rgba(60, 64, 67, 0.15);\n",
              "      fill: #174EA6;\n",
              "    }\n",
              "\n",
              "    .colab-df-buttons div {\n",
              "      margin-bottom: 4px;\n",
              "    }\n",
              "\n",
              "    [theme=dark] .colab-df-convert {\n",
              "      background-color: #3B4455;\n",
              "      fill: #D2E3FC;\n",
              "    }\n",
              "\n",
              "    [theme=dark] .colab-df-convert:hover {\n",
              "      background-color: #434B5C;\n",
              "      box-shadow: 0px 1px 3px 1px rgba(0, 0, 0, 0.15);\n",
              "      filter: drop-shadow(0px 1px 2px rgba(0, 0, 0, 0.3));\n",
              "      fill: #FFFFFF;\n",
              "    }\n",
              "  </style>\n",
              "\n",
              "    <script>\n",
              "      const buttonEl =\n",
              "        document.querySelector('#df-d87f5f1d-a5d7-4cf7-952d-1d80c7c0364f button.colab-df-convert');\n",
              "      buttonEl.style.display =\n",
              "        google.colab.kernel.accessAllowed ? 'block' : 'none';\n",
              "\n",
              "      async function convertToInteractive(key) {\n",
              "        const element = document.querySelector('#df-d87f5f1d-a5d7-4cf7-952d-1d80c7c0364f');\n",
              "        const dataTable =\n",
              "          await google.colab.kernel.invokeFunction('convertToInteractive',\n",
              "                                                    [key], {});\n",
              "        if (!dataTable) return;\n",
              "\n",
              "        const docLinkHtml = 'Like what you see? Visit the ' +\n",
              "          '<a target=\"_blank\" href=https://colab.research.google.com/notebooks/data_table.ipynb>data table notebook</a>'\n",
              "          + ' to learn more about interactive tables.';\n",
              "        element.innerHTML = '';\n",
              "        dataTable['output_type'] = 'display_data';\n",
              "        await google.colab.output.renderOutput(dataTable, element);\n",
              "        const docLink = document.createElement('div');\n",
              "        docLink.innerHTML = docLinkHtml;\n",
              "        element.appendChild(docLink);\n",
              "      }\n",
              "    </script>\n",
              "  </div>\n",
              "\n",
              "\n",
              "<div id=\"df-768d3e80-2aa6-4154-bf83-a78ef48ece6f\">\n",
              "  <button class=\"colab-df-quickchart\" onclick=\"quickchart('df-768d3e80-2aa6-4154-bf83-a78ef48ece6f')\"\n",
              "            title=\"Suggest charts.\"\n",
              "            style=\"display:none;\">\n",
              "\n",
              "<svg xmlns=\"http://www.w3.org/2000/svg\" height=\"24px\"viewBox=\"0 0 24 24\"\n",
              "     width=\"24px\">\n",
              "    <g>\n",
              "        <path d=\"M19 3H5c-1.1 0-2 .9-2 2v14c0 1.1.9 2 2 2h14c1.1 0 2-.9 2-2V5c0-1.1-.9-2-2-2zM9 17H7v-7h2v7zm4 0h-2V7h2v10zm4 0h-2v-4h2v4z\"/>\n",
              "    </g>\n",
              "</svg>\n",
              "  </button>\n",
              "\n",
              "<style>\n",
              "  .colab-df-quickchart {\n",
              "      --bg-color: #E8F0FE;\n",
              "      --fill-color: #1967D2;\n",
              "      --hover-bg-color: #E2EBFA;\n",
              "      --hover-fill-color: #174EA6;\n",
              "      --disabled-fill-color: #AAA;\n",
              "      --disabled-bg-color: #DDD;\n",
              "  }\n",
              "\n",
              "  [theme=dark] .colab-df-quickchart {\n",
              "      --bg-color: #3B4455;\n",
              "      --fill-color: #D2E3FC;\n",
              "      --hover-bg-color: #434B5C;\n",
              "      --hover-fill-color: #FFFFFF;\n",
              "      --disabled-bg-color: #3B4455;\n",
              "      --disabled-fill-color: #666;\n",
              "  }\n",
              "\n",
              "  .colab-df-quickchart {\n",
              "    background-color: var(--bg-color);\n",
              "    border: none;\n",
              "    border-radius: 50%;\n",
              "    cursor: pointer;\n",
              "    display: none;\n",
              "    fill: var(--fill-color);\n",
              "    height: 32px;\n",
              "    padding: 0;\n",
              "    width: 32px;\n",
              "  }\n",
              "\n",
              "  .colab-df-quickchart:hover {\n",
              "    background-color: var(--hover-bg-color);\n",
              "    box-shadow: 0 1px 2px rgba(60, 64, 67, 0.3), 0 1px 3px 1px rgba(60, 64, 67, 0.15);\n",
              "    fill: var(--button-hover-fill-color);\n",
              "  }\n",
              "\n",
              "  .colab-df-quickchart-complete:disabled,\n",
              "  .colab-df-quickchart-complete:disabled:hover {\n",
              "    background-color: var(--disabled-bg-color);\n",
              "    fill: var(--disabled-fill-color);\n",
              "    box-shadow: none;\n",
              "  }\n",
              "\n",
              "  .colab-df-spinner {\n",
              "    border: 2px solid var(--fill-color);\n",
              "    border-color: transparent;\n",
              "    border-bottom-color: var(--fill-color);\n",
              "    animation:\n",
              "      spin 1s steps(1) infinite;\n",
              "  }\n",
              "\n",
              "  @keyframes spin {\n",
              "    0% {\n",
              "      border-color: transparent;\n",
              "      border-bottom-color: var(--fill-color);\n",
              "      border-left-color: var(--fill-color);\n",
              "    }\n",
              "    20% {\n",
              "      border-color: transparent;\n",
              "      border-left-color: var(--fill-color);\n",
              "      border-top-color: var(--fill-color);\n",
              "    }\n",
              "    30% {\n",
              "      border-color: transparent;\n",
              "      border-left-color: var(--fill-color);\n",
              "      border-top-color: var(--fill-color);\n",
              "      border-right-color: var(--fill-color);\n",
              "    }\n",
              "    40% {\n",
              "      border-color: transparent;\n",
              "      border-right-color: var(--fill-color);\n",
              "      border-top-color: var(--fill-color);\n",
              "    }\n",
              "    60% {\n",
              "      border-color: transparent;\n",
              "      border-right-color: var(--fill-color);\n",
              "    }\n",
              "    80% {\n",
              "      border-color: transparent;\n",
              "      border-right-color: var(--fill-color);\n",
              "      border-bottom-color: var(--fill-color);\n",
              "    }\n",
              "    90% {\n",
              "      border-color: transparent;\n",
              "      border-bottom-color: var(--fill-color);\n",
              "    }\n",
              "  }\n",
              "</style>\n",
              "\n",
              "  <script>\n",
              "    async function quickchart(key) {\n",
              "      const quickchartButtonEl =\n",
              "        document.querySelector('#' + key + ' button');\n",
              "      quickchartButtonEl.disabled = true;  // To prevent multiple clicks.\n",
              "      quickchartButtonEl.classList.add('colab-df-spinner');\n",
              "      try {\n",
              "        const charts = await google.colab.kernel.invokeFunction(\n",
              "            'suggestCharts', [key], {});\n",
              "      } catch (error) {\n",
              "        console.error('Error during call to suggestCharts:', error);\n",
              "      }\n",
              "      quickchartButtonEl.classList.remove('colab-df-spinner');\n",
              "      quickchartButtonEl.classList.add('colab-df-quickchart-complete');\n",
              "    }\n",
              "    (() => {\n",
              "      let quickchartButtonEl =\n",
              "        document.querySelector('#df-768d3e80-2aa6-4154-bf83-a78ef48ece6f button');\n",
              "      quickchartButtonEl.style.display =\n",
              "        google.colab.kernel.accessAllowed ? 'block' : 'none';\n",
              "    })();\n",
              "  </script>\n",
              "</div>\n",
              "    </div>\n",
              "  </div>\n"
            ]
          },
          "metadata": {},
          "execution_count": 7
        }
      ],
      "source": [
        "food.head(5)"
      ]
    },
    {
      "cell_type": "markdown",
      "metadata": {
        "id": "4gPvPUwIvCLP"
      },
      "source": [
        "#### Step 4. What is the number of observations in the dataset?"
      ]
    },
    {
      "cell_type": "code",
      "execution_count": 9,
      "metadata": {
        "id": "pYMvzQrfvGoq",
        "colab": {
          "base_uri": "https://localhost:8080/"
        },
        "outputId": "57c25fa5-8398-4b3b-9642-136766a8ed18"
      },
      "outputs": [
        {
          "output_type": "stream",
          "name": "stdout",
          "text": [
            "Number of observations:  356027\n"
          ]
        }
      ],
      "source": [
        "num_observations = food.shape[0]\n",
        "print(\"Number of observations: \", num_observations)"
      ]
    },
    {
      "cell_type": "markdown",
      "metadata": {
        "id": "p-28zkCUvHao"
      },
      "source": [
        "#### Step 5. What is the number of columns in the dataset?"
      ]
    },
    {
      "cell_type": "code",
      "execution_count": 11,
      "metadata": {
        "id": "R_Je8yanvKqL",
        "colab": {
          "base_uri": "https://localhost:8080/"
        },
        "outputId": "1ca1e288-6ec4-49b8-d52b-7822792e1210"
      },
      "outputs": [
        {
          "output_type": "stream",
          "name": "stdout",
          "text": [
            "Number of columns:  163\n"
          ]
        }
      ],
      "source": [
        "num_col = food.shape[1]\n",
        "print(\"Number of columns: \", num_col)"
      ]
    },
    {
      "cell_type": "markdown",
      "metadata": {
        "id": "Syi2QhvkvLJs"
      },
      "source": [
        "#### Step 6. Print the name of all the columns."
      ]
    },
    {
      "cell_type": "code",
      "execution_count": 13,
      "metadata": {
        "id": "iifFOBXyvOfz",
        "colab": {
          "base_uri": "https://localhost:8080/"
        },
        "outputId": "6534248f-d7f0-4a26-eb7c-6ccbbb5cc93e"
      },
      "outputs": [
        {
          "output_type": "stream",
          "name": "stdout",
          "text": [
            "code\n",
            "url\n",
            "creator\n",
            "created_t\n",
            "created_datetime\n",
            "last_modified_t\n",
            "last_modified_datetime\n",
            "product_name\n",
            "generic_name\n",
            "quantity\n",
            "packaging\n",
            "packaging_tags\n",
            "brands\n",
            "brands_tags\n",
            "categories\n",
            "categories_tags\n",
            "categories_en\n",
            "origins\n",
            "origins_tags\n",
            "manufacturing_places\n",
            "manufacturing_places_tags\n",
            "labels\n",
            "labels_tags\n",
            "labels_en\n",
            "emb_codes\n",
            "emb_codes_tags\n",
            "first_packaging_code_geo\n",
            "cities\n",
            "cities_tags\n",
            "purchase_places\n",
            "stores\n",
            "countries\n",
            "countries_tags\n",
            "countries_en\n",
            "ingredients_text\n",
            "allergens\n",
            "allergens_en\n",
            "traces\n",
            "traces_tags\n",
            "traces_en\n",
            "serving_size\n",
            "no_nutriments\n",
            "additives_n\n",
            "additives\n",
            "additives_tags\n",
            "additives_en\n",
            "ingredients_from_palm_oil_n\n",
            "ingredients_from_palm_oil\n",
            "ingredients_from_palm_oil_tags\n",
            "ingredients_that_may_be_from_palm_oil_n\n",
            "ingredients_that_may_be_from_palm_oil\n",
            "ingredients_that_may_be_from_palm_oil_tags\n",
            "nutrition_grade_uk\n",
            "nutrition_grade_fr\n",
            "pnns_groups_1\n",
            "pnns_groups_2\n",
            "states\n",
            "states_tags\n",
            "states_en\n",
            "main_category\n",
            "main_category_en\n",
            "image_url\n",
            "image_small_url\n",
            "energy_100g\n",
            "energy-from-fat_100g\n",
            "fat_100g\n",
            "saturated-fat_100g\n",
            "-butyric-acid_100g\n",
            "-caproic-acid_100g\n",
            "-caprylic-acid_100g\n",
            "-capric-acid_100g\n",
            "-lauric-acid_100g\n",
            "-myristic-acid_100g\n",
            "-palmitic-acid_100g\n",
            "-stearic-acid_100g\n",
            "-arachidic-acid_100g\n",
            "-behenic-acid_100g\n",
            "-lignoceric-acid_100g\n",
            "-cerotic-acid_100g\n",
            "-montanic-acid_100g\n",
            "-melissic-acid_100g\n",
            "monounsaturated-fat_100g\n",
            "polyunsaturated-fat_100g\n",
            "omega-3-fat_100g\n",
            "-alpha-linolenic-acid_100g\n",
            "-eicosapentaenoic-acid_100g\n",
            "-docosahexaenoic-acid_100g\n",
            "omega-6-fat_100g\n",
            "-linoleic-acid_100g\n",
            "-arachidonic-acid_100g\n",
            "-gamma-linolenic-acid_100g\n",
            "-dihomo-gamma-linolenic-acid_100g\n",
            "omega-9-fat_100g\n",
            "-oleic-acid_100g\n",
            "-elaidic-acid_100g\n",
            "-gondoic-acid_100g\n",
            "-mead-acid_100g\n",
            "-erucic-acid_100g\n",
            "-nervonic-acid_100g\n",
            "trans-fat_100g\n",
            "cholesterol_100g\n",
            "carbohydrates_100g\n",
            "sugars_100g\n",
            "-sucrose_100g\n",
            "-glucose_100g\n",
            "-fructose_100g\n",
            "-lactose_100g\n",
            "-maltose_100g\n",
            "-maltodextrins_100g\n",
            "starch_100g\n",
            "polyols_100g\n",
            "fiber_100g\n",
            "proteins_100g\n",
            "casein_100g\n",
            "serum-proteins_100g\n",
            "nucleotides_100g\n",
            "salt_100g\n",
            "sodium_100g\n",
            "alcohol_100g\n",
            "vitamin-a_100g\n",
            "beta-carotene_100g\n",
            "vitamin-d_100g\n",
            "vitamin-e_100g\n",
            "vitamin-k_100g\n",
            "vitamin-c_100g\n",
            "vitamin-b1_100g\n",
            "vitamin-b2_100g\n",
            "vitamin-pp_100g\n",
            "vitamin-b6_100g\n",
            "vitamin-b9_100g\n",
            "folates_100g\n",
            "vitamin-b12_100g\n",
            "biotin_100g\n",
            "pantothenic-acid_100g\n",
            "silica_100g\n",
            "bicarbonate_100g\n",
            "potassium_100g\n",
            "chloride_100g\n",
            "calcium_100g\n",
            "phosphorus_100g\n",
            "iron_100g\n",
            "magnesium_100g\n",
            "zinc_100g\n",
            "copper_100g\n",
            "manganese_100g\n",
            "fluoride_100g\n",
            "selenium_100g\n",
            "chromium_100g\n",
            "molybdenum_100g\n",
            "iodine_100g\n",
            "caffeine_100g\n",
            "taurine_100g\n",
            "ph_100g\n",
            "fruits-vegetables-nuts_100g\n",
            "fruits-vegetables-nuts-estimate_100g\n",
            "collagen-meat-protein-ratio_100g\n",
            "cocoa_100g\n",
            "chlorophyl_100g\n",
            "carbon-footprint_100g\n",
            "nutrition-score-fr_100g\n",
            "nutrition-score-uk_100g\n",
            "glycemic-index_100g\n",
            "water-hardness_100g\n"
          ]
        }
      ],
      "source": [
        "name_col = food.columns\n",
        "for column in name_col:\n",
        "    print(column)"
      ]
    },
    {
      "cell_type": "markdown",
      "metadata": {
        "id": "yu3piNbsvO3v"
      },
      "source": [
        "#### Step 7. What is the name of 105th column?"
      ]
    },
    {
      "cell_type": "code",
      "execution_count": 15,
      "metadata": {
        "id": "dRsrOS4IvUMn",
        "colab": {
          "base_uri": "https://localhost:8080/"
        },
        "outputId": "0cc9fe65-5307-4080-c183-063aca22e9df"
      },
      "outputs": [
        {
          "output_type": "stream",
          "name": "stdout",
          "text": [
            "The name of 105th column:  -glucose_100g\n"
          ]
        }
      ],
      "source": [
        "name_col = food.columns[104]\n",
        "print(\"The name of 105th column: \", name_col)"
      ]
    },
    {
      "cell_type": "markdown",
      "metadata": {
        "id": "uyandi0EvUoO"
      },
      "source": [
        "#### Step 8. What is the type of the observation of th 105th column?"
      ]
    },
    {
      "cell_type": "code",
      "execution_count": 16,
      "metadata": {
        "id": "XdyXZNAmvYR0",
        "colab": {
          "base_uri": "https://localhost:8080/"
        },
        "outputId": "b7630bc9-a88b-4634-a33d-ca69d32eccee"
      },
      "outputs": [
        {
          "output_type": "stream",
          "name": "stdout",
          "text": [
            "The type of obsercation of the 105th column:  float64\n"
          ]
        }
      ],
      "source": [
        "type_col = food.dtypes[104]\n",
        "print(\"The type of obsercation of the 105th column: \", type_col)"
      ]
    },
    {
      "cell_type": "markdown",
      "metadata": {
        "id": "1cd_YHTsvYo-"
      },
      "source": [
        "#### Step 9. How is the dataset indexed?"
      ]
    },
    {
      "cell_type": "code",
      "execution_count": 17,
      "metadata": {
        "id": "dL_ridodvb_C",
        "colab": {
          "base_uri": "https://localhost:8080/"
        },
        "outputId": "50d36b15-7e04-4f49-e07d-f25d71e582ce"
      },
      "outputs": [
        {
          "output_type": "stream",
          "name": "stdout",
          "text": [
            "The dataset indexed:  RangeIndex(start=0, stop=356027, step=1)\n"
          ]
        }
      ],
      "source": [
        "indexed = food.index\n",
        "print(\"The dataset indexed: \", indexed)"
      ]
    },
    {
      "cell_type": "markdown",
      "metadata": {
        "id": "a-pCy8K0vcY0"
      },
      "source": [
        "#### Step 10. What is the product name of the 19th observation?"
      ]
    },
    {
      "cell_type": "code",
      "execution_count": 19,
      "metadata": {
        "id": "Xr3vLPLnvhji",
        "colab": {
          "base_uri": "https://localhost:8080/"
        },
        "outputId": "70668092-675c-407d-970d-6026a45cf181"
      },
      "outputs": [
        {
          "output_type": "stream",
          "name": "stdout",
          "text": [
            "The product name of the 19th obersvation:  Lotus Organic Brown Jasmine Rice\n"
          ]
        }
      ],
      "source": [
        "name_product = food.iloc[18]['product_name']\n",
        "print(\"The product name of the 19th obersvation: \", name_product)"
      ]
    }
  ],
  "metadata": {
    "colab": {
      "provenance": [],
      "authorship_tag": "ABX9TyM6fo9r7+2DtgML3B3JHyY/",
      "include_colab_link": true
    },
    "kernelspec": {
      "display_name": "Python 3",
      "name": "python3"
    },
    "language_info": {
      "name": "python"
    }
  },
  "nbformat": 4,
  "nbformat_minor": 0
}